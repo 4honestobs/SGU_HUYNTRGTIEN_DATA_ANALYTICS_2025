{
  "nbformat": 4,
  "nbformat_minor": 0,
  "metadata": {
    "colab": {
      "provenance": [],
      "include_colab_link": true
    },
    "kernelspec": {
      "name": "python3",
      "display_name": "Python 3"
    },
    "language_info": {
      "name": "python"
    }
  },
  "cells": [
    {
      "cell_type": "markdown",
      "metadata": {
        "id": "view-in-github",
        "colab_type": "text"
      },
      "source": [
        "<a href=\"https://colab.research.google.com/github/4honestobs/SGU_HUYNTRGTIEN_DATA_ANALYTICS_2025/blob/main/EDA.ipynb\" target=\"_parent\"><img src=\"https://colab.research.google.com/assets/colab-badge.svg\" alt=\"Open In Colab\"/></a>"
      ]
    },
    {
      "cell_type": "markdown",
      "source": [
        "#THỰC HÀNH: PHÂN TÍCH KHÁM PHÁ DỮ LIỆU"
      ],
      "metadata": {
        "id": "HZr1jIrmMG66"
      }
    },
    {
      "cell_type": "markdown",
      "source": [
        "##1.1. THỐNG KÊ MÔ TẢ"
      ],
      "metadata": {
        "id": "i8AwmxZGgocx"
      }
    },
    {
      "cell_type": "markdown",
      "source": [
        "###1.1.3. BÀI TẬP THỰC HÀNH 1"
      ],
      "metadata": {
        "id": "sdCyuQOng1y2"
      }
    },
    {
      "cell_type": "markdown",
      "source": [
        "**Thực hiện thống kê mô tả trên tập dữ liệu về phân loại chất lượng rượu đỏ**"
      ],
      "metadata": {
        "id": "pVxrG8Vgg9ya"
      }
    },
    {
      "cell_type": "markdown",
      "source": [
        "  Dữ liệu lấy tại: https://www.kaggle.com/code/eisgandar/red-wine-quality-eda-classification"
      ],
      "metadata": {
        "id": "bxYavWgOhKGa"
      }
    },
    {
      "cell_type": "code",
      "execution_count": null,
      "metadata": {
        "id": "z3oPtcuQLLpa",
        "colab": {
          "base_uri": "https://localhost:8080/"
        },
        "outputId": "ee764b4e-ee68-4086-96b2-64be9816b932"
      },
      "outputs": [
        {
          "output_type": "stream",
          "name": "stdout",
          "text": [
            "Cloning into 'SGU_HUYNTRGTIEN_DATA_ANALYTICS_2025'...\n",
            "remote: Enumerating objects: 36, done.\u001b[K\n",
            "remote: Counting objects: 100% (36/36), done.\u001b[K\n",
            "remote: Compressing objects: 100% (32/32), done.\u001b[K\n",
            "remote: Total 36 (delta 4), reused 24 (delta 2), pack-reused 0 (from 0)\u001b[K\n",
            "Receiving objects: 100% (36/36), 9.62 MiB | 9.77 MiB/s, done.\n",
            "Resolving deltas: 100% (4/4), done.\n"
          ]
        }
      ],
      "source": [
        "# clone git repo to access data\n",
        "\n",
        "!git clone https://github.com/4honestobs/SGU_HUYNTRGTIEN_DATA_ANALYTICS_2025.git"
      ]
    },
    {
      "cell_type": "markdown",
      "source": [
        "Step 1: Import libraries and get data to notebook"
      ],
      "metadata": {
        "id": "1zhlhWuGhcts"
      }
    },
    {
      "cell_type": "code",
      "source": [
        "import pandas as pd\n",
        "import numpy as np\n",
        "from scipy import stats\n",
        "\n",
        "# Load the .csv into a dataframe using read_csv\n",
        "wine_data = pd.read_csv(\"/content/SGU_HUYNTRGTIEN_DATA_ANALYTICS_2025/Data_Sets/winequality-red.csv\")\n",
        "wine_data = wine_data[['fixed acidity','volatile acidity','citric acid','residual sugar','chlorides',\n",
        "                       'free sulfur dioxide','total sulfur dioxide','density','pH','sulphates','alcohol', 'quality']]\n",
        "\n",
        "wine_data.head()\n",
        "wine_data.dtypes\n",
        "wine_data.shape\n"
      ],
      "metadata": {
        "colab": {
          "base_uri": "https://localhost:8080/"
        },
        "id": "Km9Ni4Y5hmAu",
        "outputId": "51f49f22-237d-467c-f5f5-4ea302da96d0"
      },
      "execution_count": 3,
      "outputs": [
        {
          "output_type": "execute_result",
          "data": {
            "text/plain": [
              "(1599, 12)"
            ]
          },
          "metadata": {},
          "execution_count": 3
        }
      ]
    },
    {
      "cell_type": "markdown",
      "source": [
        "Step 2: Remove duplicated values and drop missing data"
      ],
      "metadata": {
        "id": "-__V842oF1mU"
      }
    },
    {
      "cell_type": "code",
      "source": [
        "# Remove duplicated value using drop_duplicates\n",
        "wine_data = wine_data.drop_duplicates()\n",
        "\n",
        "# Drop missing data using dropna method\n",
        "wine_data = wine_data.dropna()\n",
        "wine_data.shape"
      ],
      "metadata": {
        "colab": {
          "base_uri": "https://localhost:8080/"
        },
        "id": "y6OGRTL3GA5T",
        "outputId": "8d774944-6f1a-4983-f254-ad5f8e7455cb"
      },
      "execution_count": 12,
      "outputs": [
        {
          "output_type": "execute_result",
          "data": {
            "text/plain": [
              "(1359, 12)"
            ]
          },
          "metadata": {},
          "execution_count": 12
        }
      ]
    },
    {
      "cell_type": "markdown",
      "source": [
        "Step 3: Calculate Mean, Median, Mode, standard deviation, variance, min-max range and IOR of the data"
      ],
      "metadata": {
        "id": "xXJjqF9amq-0"
      }
    },
    {
      "cell_type": "code",
      "source": [
        "# Get the mean of the data\n",
        "wine_data.mean()\n",
        "\n",
        "# Get the median of the data\n",
        "wine_data.median()\n",
        "\n",
        "# Get the mode of the data\n",
        "wine_data.mode()\n",
        "\n",
        "# Get the standard deviation of the data\n",
        "wine_data.std()\n",
        "\n",
        "# Get the variance of the data\n",
        "wine_data.var()\n",
        "\n",
        "# Compute the maximum and minimum of the data\n",
        "wine_data.max()\n",
        "wine_data.min()\n",
        "\n",
        "# Compute the range of the data\n",
        "wine_data.max() - wine_data.min()\n",
        "\n",
        "# Get the IOR of the data\n",
        "stats.iqr(wine_data)"
      ],
      "metadata": {
        "id": "HmRIeABamqJY",
        "colab": {
          "base_uri": "https://localhost:8080/"
        },
        "outputId": "9d25ddd8-46c1-4c2c-9167-4a6c7924ecaa"
      },
      "execution_count": 13,
      "outputs": [
        {
          "output_type": "execute_result",
          "data": {
            "text/plain": [
              "np.float64(8.31)"
            ]
          },
          "metadata": {},
          "execution_count": 13
        }
      ]
    },
    {
      "cell_type": "code",
      "source": [
        "# Output\n",
        "print(\"Mean:\")\n",
        "print(wine_data.mean())\n",
        "print(\"\\nMedian:\")\n",
        "print(wine_data.median())\n",
        "print(\"\\nMode:\")\n",
        "print(wine_data.mode())\n",
        "print(\"\\nStandard Deviation:\")\n",
        "print(wine_data.std())\n",
        "print(\"\\nVariance:\")\n",
        "print(wine_data.var())\n",
        "print(\"\\nMaximum:\")\n",
        "print(wine_data.max())\n",
        "print(\"\\nMinimum:\")\n",
        "print(wine_data.min())\n",
        "print(\"\\nRange:\")\n",
        "print(wine_data.max() - wine_data.min())\n",
        "print(\"\\nIQR:\")\n",
        "print(stats.iqr(wine_data))"
      ],
      "metadata": {
        "colab": {
          "base_uri": "https://localhost:8080/"
        },
        "id": "abMFYhfbmAi_",
        "outputId": "33ce9c59-c713-4164-e527-72e297178322"
      },
      "execution_count": 5,
      "outputs": [
        {
          "output_type": "stream",
          "name": "stdout",
          "text": [
            "Mean:\n",
            "fixed acidity            8.319637\n",
            "volatile acidity         0.527821\n",
            "citric acid              0.270976\n",
            "residual sugar           2.538806\n",
            "chlorides                0.087467\n",
            "free sulfur dioxide     15.874922\n",
            "total sulfur dioxide    46.467792\n",
            "density                  0.996747\n",
            "pH                       3.311113\n",
            "sulphates                0.658149\n",
            "alcohol                 10.422983\n",
            "quality                  5.636023\n",
            "dtype: float64\n",
            "\n",
            "Median:\n",
            "fixed acidity            7.90000\n",
            "volatile acidity         0.52000\n",
            "citric acid              0.26000\n",
            "residual sugar           2.20000\n",
            "chlorides                0.07900\n",
            "free sulfur dioxide     14.00000\n",
            "total sulfur dioxide    38.00000\n",
            "density                  0.99675\n",
            "pH                       3.31000\n",
            "sulphates                0.62000\n",
            "alcohol                 10.20000\n",
            "quality                  6.00000\n",
            "dtype: float64\n",
            "\n",
            "Mode:\n",
            "   fixed acidity  volatile acidity  citric acid  residual sugar  chlorides  \\\n",
            "0            7.2               0.6          0.0             2.0       0.08   \n",
            "\n",
            "   free sulfur dioxide  total sulfur dioxide  density   pH  sulphates  \\\n",
            "0                  6.0                  28.0   0.9972  3.3        0.6   \n",
            "\n",
            "   alcohol  quality  \n",
            "0      9.5        5  \n",
            "\n",
            "Standard Deviation:\n",
            "fixed acidity            1.741096\n",
            "volatile acidity         0.179060\n",
            "citric acid              0.194801\n",
            "residual sugar           1.409928\n",
            "chlorides                0.047065\n",
            "free sulfur dioxide     10.460157\n",
            "total sulfur dioxide    32.895324\n",
            "density                  0.001887\n",
            "pH                       0.154386\n",
            "sulphates                0.169507\n",
            "alcohol                  1.065668\n",
            "quality                  0.807569\n",
            "dtype: float64\n",
            "\n",
            "Variance:\n",
            "fixed acidity              3.031416\n",
            "volatile acidity           0.032062\n",
            "citric acid                0.037947\n",
            "residual sugar             1.987897\n",
            "chlorides                  0.002215\n",
            "free sulfur dioxide      109.414884\n",
            "total sulfur dioxide    1082.102373\n",
            "density                    0.000004\n",
            "pH                         0.023835\n",
            "sulphates                  0.028733\n",
            "alcohol                    1.135647\n",
            "quality                    0.652168\n",
            "dtype: float64\n",
            "\n",
            "Maximum:\n",
            "fixed acidity            15.90000\n",
            "volatile acidity          1.58000\n",
            "citric acid               1.00000\n",
            "residual sugar           15.50000\n",
            "chlorides                 0.61100\n",
            "free sulfur dioxide      72.00000\n",
            "total sulfur dioxide    289.00000\n",
            "density                   1.00369\n",
            "pH                        4.01000\n",
            "sulphates                 2.00000\n",
            "alcohol                  14.90000\n",
            "quality                   8.00000\n",
            "dtype: float64\n",
            "\n",
            "Minimum:\n",
            "fixed acidity           4.60000\n",
            "volatile acidity        0.12000\n",
            "citric acid             0.00000\n",
            "residual sugar          0.90000\n",
            "chlorides               0.01200\n",
            "free sulfur dioxide     1.00000\n",
            "total sulfur dioxide    6.00000\n",
            "density                 0.99007\n",
            "pH                      2.74000\n",
            "sulphates               0.33000\n",
            "alcohol                 8.40000\n",
            "quality                 3.00000\n",
            "dtype: float64\n",
            "\n",
            "Range:\n",
            "fixed acidity            11.30000\n",
            "volatile acidity          1.46000\n",
            "citric acid               1.00000\n",
            "residual sugar           14.60000\n",
            "chlorides                 0.59900\n",
            "free sulfur dioxide      71.00000\n",
            "total sulfur dioxide    283.00000\n",
            "density                   0.01362\n",
            "pH                        1.27000\n",
            "sulphates                 1.67000\n",
            "alcohol                   6.50000\n",
            "quality                   5.00000\n",
            "dtype: float64\n",
            "\n",
            "IQR:\n",
            "8.31\n"
          ]
        }
      ]
    },
    {
      "cell_type": "markdown",
      "source": [
        "###1.1.4. BÀI TẬP THỰC HÀNH 2"
      ],
      "metadata": {
        "id": "F5nkRZIcC1uQ"
      }
    },
    {
      "cell_type": "markdown",
      "source": [
        "**Khám phá và xử lý dữ liệu về bệnh tiểu đường**"
      ],
      "metadata": {
        "id": "ObMPfb2dDF0E"
      }
    },
    {
      "cell_type": "markdown",
      "source": [
        "Dữ liệu lấy tại: https://www.kaggle.com/code/vincentlugat/pima-indians-diabetes-eda-prediction-0-906"
      ],
      "metadata": {
        "id": "47WO0HphDSjP"
      }
    },
    {
      "cell_type": "markdown",
      "source": [
        "Step 1: Get data to notebook"
      ],
      "metadata": {
        "id": "IlDheHhZDgD8"
      }
    },
    {
      "cell_type": "code",
      "source": [
        "# Load the .csv into a dataframe using read_csv\n",
        "\n",
        "diabetes_data = pd.read_csv(\"/content/SGU_HUYNTRGTIEN_DATA_ANALYTICS_2025/Data_Sets/diabetes.csv\")\n",
        "diabetes_data = diabetes_data[['Pregnancies','Glucose','BloodPressure','SkinThickness','Insulin','BMI','DiabetesPedigreeFunction','Age','Outcome']]\n",
        "diabetes_data.head()"
      ],
      "metadata": {
        "colab": {
          "base_uri": "https://localhost:8080/",
          "height": 206
        },
        "id": "GVuEFLjzDnRW",
        "outputId": "439c1e66-f8f2-403f-9cb3-8d340951128a"
      },
      "execution_count": 7,
      "outputs": [
        {
          "output_type": "execute_result",
          "data": {
            "text/plain": [
              "   Pregnancies  Glucose  BloodPressure  SkinThickness  Insulin   BMI  \\\n",
              "0            6      148             72             35        0  33.6   \n",
              "1            1       85             66             29        0  26.6   \n",
              "2            8      183             64              0        0  23.3   \n",
              "3            1       89             66             23       94  28.1   \n",
              "4            0      137             40             35      168  43.1   \n",
              "\n",
              "   DiabetesPedigreeFunction  Age  Outcome  \n",
              "0                     0.627   50        1  \n",
              "1                     0.351   31        0  \n",
              "2                     0.672   32        1  \n",
              "3                     0.167   21        0  \n",
              "4                     2.288   33        1  "
            ],
            "text/html": [
              "\n",
              "  <div id=\"df-3038e944-471a-4f98-87da-af7aa481b0e9\" class=\"colab-df-container\">\n",
              "    <div>\n",
              "<style scoped>\n",
              "    .dataframe tbody tr th:only-of-type {\n",
              "        vertical-align: middle;\n",
              "    }\n",
              "\n",
              "    .dataframe tbody tr th {\n",
              "        vertical-align: top;\n",
              "    }\n",
              "\n",
              "    .dataframe thead th {\n",
              "        text-align: right;\n",
              "    }\n",
              "</style>\n",
              "<table border=\"1\" class=\"dataframe\">\n",
              "  <thead>\n",
              "    <tr style=\"text-align: right;\">\n",
              "      <th></th>\n",
              "      <th>Pregnancies</th>\n",
              "      <th>Glucose</th>\n",
              "      <th>BloodPressure</th>\n",
              "      <th>SkinThickness</th>\n",
              "      <th>Insulin</th>\n",
              "      <th>BMI</th>\n",
              "      <th>DiabetesPedigreeFunction</th>\n",
              "      <th>Age</th>\n",
              "      <th>Outcome</th>\n",
              "    </tr>\n",
              "  </thead>\n",
              "  <tbody>\n",
              "    <tr>\n",
              "      <th>0</th>\n",
              "      <td>6</td>\n",
              "      <td>148</td>\n",
              "      <td>72</td>\n",
              "      <td>35</td>\n",
              "      <td>0</td>\n",
              "      <td>33.6</td>\n",
              "      <td>0.627</td>\n",
              "      <td>50</td>\n",
              "      <td>1</td>\n",
              "    </tr>\n",
              "    <tr>\n",
              "      <th>1</th>\n",
              "      <td>1</td>\n",
              "      <td>85</td>\n",
              "      <td>66</td>\n",
              "      <td>29</td>\n",
              "      <td>0</td>\n",
              "      <td>26.6</td>\n",
              "      <td>0.351</td>\n",
              "      <td>31</td>\n",
              "      <td>0</td>\n",
              "    </tr>\n",
              "    <tr>\n",
              "      <th>2</th>\n",
              "      <td>8</td>\n",
              "      <td>183</td>\n",
              "      <td>64</td>\n",
              "      <td>0</td>\n",
              "      <td>0</td>\n",
              "      <td>23.3</td>\n",
              "      <td>0.672</td>\n",
              "      <td>32</td>\n",
              "      <td>1</td>\n",
              "    </tr>\n",
              "    <tr>\n",
              "      <th>3</th>\n",
              "      <td>1</td>\n",
              "      <td>89</td>\n",
              "      <td>66</td>\n",
              "      <td>23</td>\n",
              "      <td>94</td>\n",
              "      <td>28.1</td>\n",
              "      <td>0.167</td>\n",
              "      <td>21</td>\n",
              "      <td>0</td>\n",
              "    </tr>\n",
              "    <tr>\n",
              "      <th>4</th>\n",
              "      <td>0</td>\n",
              "      <td>137</td>\n",
              "      <td>40</td>\n",
              "      <td>35</td>\n",
              "      <td>168</td>\n",
              "      <td>43.1</td>\n",
              "      <td>2.288</td>\n",
              "      <td>33</td>\n",
              "      <td>1</td>\n",
              "    </tr>\n",
              "  </tbody>\n",
              "</table>\n",
              "</div>\n",
              "    <div class=\"colab-df-buttons\">\n",
              "\n",
              "  <div class=\"colab-df-container\">\n",
              "    <button class=\"colab-df-convert\" onclick=\"convertToInteractive('df-3038e944-471a-4f98-87da-af7aa481b0e9')\"\n",
              "            title=\"Convert this dataframe to an interactive table.\"\n",
              "            style=\"display:none;\">\n",
              "\n",
              "  <svg xmlns=\"http://www.w3.org/2000/svg\" height=\"24px\" viewBox=\"0 -960 960 960\">\n",
              "    <path d=\"M120-120v-720h720v720H120Zm60-500h600v-160H180v160Zm220 220h160v-160H400v160Zm0 220h160v-160H400v160ZM180-400h160v-160H180v160Zm440 0h160v-160H620v160ZM180-180h160v-160H180v160Zm440 0h160v-160H620v160Z\"/>\n",
              "  </svg>\n",
              "    </button>\n",
              "\n",
              "  <style>\n",
              "    .colab-df-container {\n",
              "      display:flex;\n",
              "      gap: 12px;\n",
              "    }\n",
              "\n",
              "    .colab-df-convert {\n",
              "      background-color: #E8F0FE;\n",
              "      border: none;\n",
              "      border-radius: 50%;\n",
              "      cursor: pointer;\n",
              "      display: none;\n",
              "      fill: #1967D2;\n",
              "      height: 32px;\n",
              "      padding: 0 0 0 0;\n",
              "      width: 32px;\n",
              "    }\n",
              "\n",
              "    .colab-df-convert:hover {\n",
              "      background-color: #E2EBFA;\n",
              "      box-shadow: 0px 1px 2px rgba(60, 64, 67, 0.3), 0px 1px 3px 1px rgba(60, 64, 67, 0.15);\n",
              "      fill: #174EA6;\n",
              "    }\n",
              "\n",
              "    .colab-df-buttons div {\n",
              "      margin-bottom: 4px;\n",
              "    }\n",
              "\n",
              "    [theme=dark] .colab-df-convert {\n",
              "      background-color: #3B4455;\n",
              "      fill: #D2E3FC;\n",
              "    }\n",
              "\n",
              "    [theme=dark] .colab-df-convert:hover {\n",
              "      background-color: #434B5C;\n",
              "      box-shadow: 0px 1px 3px 1px rgba(0, 0, 0, 0.15);\n",
              "      filter: drop-shadow(0px 1px 2px rgba(0, 0, 0, 0.3));\n",
              "      fill: #FFFFFF;\n",
              "    }\n",
              "  </style>\n",
              "\n",
              "    <script>\n",
              "      const buttonEl =\n",
              "        document.querySelector('#df-3038e944-471a-4f98-87da-af7aa481b0e9 button.colab-df-convert');\n",
              "      buttonEl.style.display =\n",
              "        google.colab.kernel.accessAllowed ? 'block' : 'none';\n",
              "\n",
              "      async function convertToInteractive(key) {\n",
              "        const element = document.querySelector('#df-3038e944-471a-4f98-87da-af7aa481b0e9');\n",
              "        const dataTable =\n",
              "          await google.colab.kernel.invokeFunction('convertToInteractive',\n",
              "                                                    [key], {});\n",
              "        if (!dataTable) return;\n",
              "\n",
              "        const docLinkHtml = 'Like what you see? Visit the ' +\n",
              "          '<a target=\"_blank\" href=https://colab.research.google.com/notebooks/data_table.ipynb>data table notebook</a>'\n",
              "          + ' to learn more about interactive tables.';\n",
              "        element.innerHTML = '';\n",
              "        dataTable['output_type'] = 'display_data';\n",
              "        await google.colab.output.renderOutput(dataTable, element);\n",
              "        const docLink = document.createElement('div');\n",
              "        docLink.innerHTML = docLinkHtml;\n",
              "        element.appendChild(docLink);\n",
              "      }\n",
              "    </script>\n",
              "  </div>\n",
              "\n",
              "\n",
              "    <div id=\"df-c0c3b087-450d-4121-9f57-6b1dc8a36a4c\">\n",
              "      <button class=\"colab-df-quickchart\" onclick=\"quickchart('df-c0c3b087-450d-4121-9f57-6b1dc8a36a4c')\"\n",
              "                title=\"Suggest charts\"\n",
              "                style=\"display:none;\">\n",
              "\n",
              "<svg xmlns=\"http://www.w3.org/2000/svg\" height=\"24px\"viewBox=\"0 0 24 24\"\n",
              "     width=\"24px\">\n",
              "    <g>\n",
              "        <path d=\"M19 3H5c-1.1 0-2 .9-2 2v14c0 1.1.9 2 2 2h14c1.1 0 2-.9 2-2V5c0-1.1-.9-2-2-2zM9 17H7v-7h2v7zm4 0h-2V7h2v10zm4 0h-2v-4h2v4z\"/>\n",
              "    </g>\n",
              "</svg>\n",
              "      </button>\n",
              "\n",
              "<style>\n",
              "  .colab-df-quickchart {\n",
              "      --bg-color: #E8F0FE;\n",
              "      --fill-color: #1967D2;\n",
              "      --hover-bg-color: #E2EBFA;\n",
              "      --hover-fill-color: #174EA6;\n",
              "      --disabled-fill-color: #AAA;\n",
              "      --disabled-bg-color: #DDD;\n",
              "  }\n",
              "\n",
              "  [theme=dark] .colab-df-quickchart {\n",
              "      --bg-color: #3B4455;\n",
              "      --fill-color: #D2E3FC;\n",
              "      --hover-bg-color: #434B5C;\n",
              "      --hover-fill-color: #FFFFFF;\n",
              "      --disabled-bg-color: #3B4455;\n",
              "      --disabled-fill-color: #666;\n",
              "  }\n",
              "\n",
              "  .colab-df-quickchart {\n",
              "    background-color: var(--bg-color);\n",
              "    border: none;\n",
              "    border-radius: 50%;\n",
              "    cursor: pointer;\n",
              "    display: none;\n",
              "    fill: var(--fill-color);\n",
              "    height: 32px;\n",
              "    padding: 0;\n",
              "    width: 32px;\n",
              "  }\n",
              "\n",
              "  .colab-df-quickchart:hover {\n",
              "    background-color: var(--hover-bg-color);\n",
              "    box-shadow: 0 1px 2px rgba(60, 64, 67, 0.3), 0 1px 3px 1px rgba(60, 64, 67, 0.15);\n",
              "    fill: var(--button-hover-fill-color);\n",
              "  }\n",
              "\n",
              "  .colab-df-quickchart-complete:disabled,\n",
              "  .colab-df-quickchart-complete:disabled:hover {\n",
              "    background-color: var(--disabled-bg-color);\n",
              "    fill: var(--disabled-fill-color);\n",
              "    box-shadow: none;\n",
              "  }\n",
              "\n",
              "  .colab-df-spinner {\n",
              "    border: 2px solid var(--fill-color);\n",
              "    border-color: transparent;\n",
              "    border-bottom-color: var(--fill-color);\n",
              "    animation:\n",
              "      spin 1s steps(1) infinite;\n",
              "  }\n",
              "\n",
              "  @keyframes spin {\n",
              "    0% {\n",
              "      border-color: transparent;\n",
              "      border-bottom-color: var(--fill-color);\n",
              "      border-left-color: var(--fill-color);\n",
              "    }\n",
              "    20% {\n",
              "      border-color: transparent;\n",
              "      border-left-color: var(--fill-color);\n",
              "      border-top-color: var(--fill-color);\n",
              "    }\n",
              "    30% {\n",
              "      border-color: transparent;\n",
              "      border-left-color: var(--fill-color);\n",
              "      border-top-color: var(--fill-color);\n",
              "      border-right-color: var(--fill-color);\n",
              "    }\n",
              "    40% {\n",
              "      border-color: transparent;\n",
              "      border-right-color: var(--fill-color);\n",
              "      border-top-color: var(--fill-color);\n",
              "    }\n",
              "    60% {\n",
              "      border-color: transparent;\n",
              "      border-right-color: var(--fill-color);\n",
              "    }\n",
              "    80% {\n",
              "      border-color: transparent;\n",
              "      border-right-color: var(--fill-color);\n",
              "      border-bottom-color: var(--fill-color);\n",
              "    }\n",
              "    90% {\n",
              "      border-color: transparent;\n",
              "      border-bottom-color: var(--fill-color);\n",
              "    }\n",
              "  }\n",
              "</style>\n",
              "\n",
              "      <script>\n",
              "        async function quickchart(key) {\n",
              "          const quickchartButtonEl =\n",
              "            document.querySelector('#' + key + ' button');\n",
              "          quickchartButtonEl.disabled = true;  // To prevent multiple clicks.\n",
              "          quickchartButtonEl.classList.add('colab-df-spinner');\n",
              "          try {\n",
              "            const charts = await google.colab.kernel.invokeFunction(\n",
              "                'suggestCharts', [key], {});\n",
              "          } catch (error) {\n",
              "            console.error('Error during call to suggestCharts:', error);\n",
              "          }\n",
              "          quickchartButtonEl.classList.remove('colab-df-spinner');\n",
              "          quickchartButtonEl.classList.add('colab-df-quickchart-complete');\n",
              "        }\n",
              "        (() => {\n",
              "          let quickchartButtonEl =\n",
              "            document.querySelector('#df-c0c3b087-450d-4121-9f57-6b1dc8a36a4c button');\n",
              "          quickchartButtonEl.style.display =\n",
              "            google.colab.kernel.accessAllowed ? 'block' : 'none';\n",
              "        })();\n",
              "      </script>\n",
              "    </div>\n",
              "\n",
              "    </div>\n",
              "  </div>\n"
            ],
            "application/vnd.google.colaboratory.intrinsic+json": {
              "type": "dataframe",
              "variable_name": "diabetes_data",
              "summary": "{\n  \"name\": \"diabetes_data\",\n  \"rows\": 768,\n  \"fields\": [\n    {\n      \"column\": \"Pregnancies\",\n      \"properties\": {\n        \"dtype\": \"number\",\n        \"std\": 3,\n        \"min\": 0,\n        \"max\": 17,\n        \"num_unique_values\": 17,\n        \"samples\": [\n          6,\n          1,\n          3\n        ],\n        \"semantic_type\": \"\",\n        \"description\": \"\"\n      }\n    },\n    {\n      \"column\": \"Glucose\",\n      \"properties\": {\n        \"dtype\": \"number\",\n        \"std\": 31,\n        \"min\": 0,\n        \"max\": 199,\n        \"num_unique_values\": 136,\n        \"samples\": [\n          151,\n          101,\n          112\n        ],\n        \"semantic_type\": \"\",\n        \"description\": \"\"\n      }\n    },\n    {\n      \"column\": \"BloodPressure\",\n      \"properties\": {\n        \"dtype\": \"number\",\n        \"std\": 19,\n        \"min\": 0,\n        \"max\": 122,\n        \"num_unique_values\": 47,\n        \"samples\": [\n          86,\n          46,\n          85\n        ],\n        \"semantic_type\": \"\",\n        \"description\": \"\"\n      }\n    },\n    {\n      \"column\": \"SkinThickness\",\n      \"properties\": {\n        \"dtype\": \"number\",\n        \"std\": 15,\n        \"min\": 0,\n        \"max\": 99,\n        \"num_unique_values\": 51,\n        \"samples\": [\n          7,\n          12,\n          48\n        ],\n        \"semantic_type\": \"\",\n        \"description\": \"\"\n      }\n    },\n    {\n      \"column\": \"Insulin\",\n      \"properties\": {\n        \"dtype\": \"number\",\n        \"std\": 115,\n        \"min\": 0,\n        \"max\": 846,\n        \"num_unique_values\": 186,\n        \"samples\": [\n          52,\n          41,\n          183\n        ],\n        \"semantic_type\": \"\",\n        \"description\": \"\"\n      }\n    },\n    {\n      \"column\": \"BMI\",\n      \"properties\": {\n        \"dtype\": \"number\",\n        \"std\": 7.8841603203754405,\n        \"min\": 0.0,\n        \"max\": 67.1,\n        \"num_unique_values\": 248,\n        \"samples\": [\n          19.9,\n          31.0,\n          38.1\n        ],\n        \"semantic_type\": \"\",\n        \"description\": \"\"\n      }\n    },\n    {\n      \"column\": \"DiabetesPedigreeFunction\",\n      \"properties\": {\n        \"dtype\": \"number\",\n        \"std\": 0.33132859501277484,\n        \"min\": 0.078,\n        \"max\": 2.42,\n        \"num_unique_values\": 517,\n        \"samples\": [\n          1.731,\n          0.426,\n          0.138\n        ],\n        \"semantic_type\": \"\",\n        \"description\": \"\"\n      }\n    },\n    {\n      \"column\": \"Age\",\n      \"properties\": {\n        \"dtype\": \"number\",\n        \"std\": 11,\n        \"min\": 21,\n        \"max\": 81,\n        \"num_unique_values\": 52,\n        \"samples\": [\n          60,\n          47,\n          72\n        ],\n        \"semantic_type\": \"\",\n        \"description\": \"\"\n      }\n    },\n    {\n      \"column\": \"Outcome\",\n      \"properties\": {\n        \"dtype\": \"number\",\n        \"std\": 0,\n        \"min\": 0,\n        \"max\": 1,\n        \"num_unique_values\": 2,\n        \"samples\": [\n          0,\n          1\n        ],\n        \"semantic_type\": \"\",\n        \"description\": \"\"\n      }\n    }\n  ]\n}"
            }
          },
          "metadata": {},
          "execution_count": 7
        }
      ]
    },
    {
      "cell_type": "markdown",
      "source": [
        "Step 2: Remove duplicated values and drop missing data"
      ],
      "metadata": {
        "id": "SPul96ChEScY"
      }
    },
    {
      "cell_type": "code",
      "source": [
        "# Remove duplicated data using drop_duplicates\n",
        "diabetes_data = diabetes_data.drop_duplicates()\n",
        "\n",
        "# Drop missing data using dropna method\n",
        "diabetes_data = diabetes_data.dropna()\n",
        "diabetes_data.shape"
      ],
      "metadata": {
        "colab": {
          "base_uri": "https://localhost:8080/"
        },
        "id": "OJgs9qsVEaAJ",
        "outputId": "2745e9b7-7e92-450b-b3fb-2ddd3ed69063"
      },
      "execution_count": 9,
      "outputs": [
        {
          "output_type": "execute_result",
          "data": {
            "text/plain": [
              "(768, 9)"
            ]
          },
          "metadata": {},
          "execution_count": 9
        }
      ]
    },
    {
      "cell_type": "markdown",
      "source": [
        "Step 3: Calculate mean, mode, variance, standard deviation, range, percentile, quartile, interquartile range of each column"
      ],
      "metadata": {
        "id": "KmSXDbvpEzZL"
      }
    },
    {
      "cell_type": "code",
      "source": [
        "# Calculate mean\n",
        "diabetes_data.mean()\n",
        "\n",
        "# Calculate mode\n",
        "diabetes_data.mode()\n",
        "\n",
        "# Calculate variance\n",
        "diabetes_data.var()\n",
        "\n",
        "# Calculate standard deviation\n",
        "diabetes_data.std()\n",
        "\n",
        "# Calculate range\n",
        "diabetes_data.max()\n",
        "diabetes_data.min()\n",
        "diabetes_data.max() - diabetes_data.min()\n",
        "\n",
        "#Get IOR\n",
        "stats.iqr(diabetes_data)"
      ],
      "metadata": {
        "colab": {
          "base_uri": "https://localhost:8080/"
        },
        "id": "QzS-zcCCFAOx",
        "outputId": "0b65c8fe-27ef-412a-9ca6-44750e0e5f46"
      },
      "execution_count": 10,
      "outputs": [
        {
          "output_type": "execute_result",
          "data": {
            "text/plain": [
              "np.float64(60.53775)"
            ]
          },
          "metadata": {},
          "execution_count": 10
        }
      ]
    },
    {
      "cell_type": "code",
      "source": [
        "# Output terminal\n",
        "print(\"Mean:\")\n",
        "print(diabetes_data.mean())\n",
        "print(\"\\nMode:\")\n",
        "print(diabetes_data.mode())\n",
        "print(\"\\nVariance:\")\n",
        "print(diabetes_data.var())\n",
        "print(\"\\nStandard Deviation:\")\n",
        "print(diabetes_data.std())\n",
        "print(\"\\nMaximum:\")\n",
        "print(diabetes_data.max())"
      ],
      "metadata": {
        "colab": {
          "base_uri": "https://localhost:8080/"
        },
        "id": "6cbY4hszFYMu",
        "outputId": "23a666f8-b659-4bf4-8755-11dee4a78082"
      },
      "execution_count": 11,
      "outputs": [
        {
          "output_type": "stream",
          "name": "stdout",
          "text": [
            "Mean:\n",
            "Pregnancies                   3.845052\n",
            "Glucose                     120.894531\n",
            "BloodPressure                69.105469\n",
            "SkinThickness                20.536458\n",
            "Insulin                      79.799479\n",
            "BMI                          31.992578\n",
            "DiabetesPedigreeFunction      0.471876\n",
            "Age                          33.240885\n",
            "Outcome                       0.348958\n",
            "dtype: float64\n",
            "\n",
            "Mode:\n",
            "   Pregnancies  Glucose  BloodPressure  SkinThickness  Insulin   BMI  \\\n",
            "0          1.0       99           70.0            0.0      0.0  32.0   \n",
            "1          NaN      100            NaN            NaN      NaN   NaN   \n",
            "\n",
            "   DiabetesPedigreeFunction   Age  Outcome  \n",
            "0                     0.254  22.0      0.0  \n",
            "1                     0.258   NaN      NaN  \n",
            "\n",
            "Variance:\n",
            "Pregnancies                    11.354056\n",
            "Glucose                      1022.248314\n",
            "BloodPressure                 374.647271\n",
            "SkinThickness                 254.473245\n",
            "Insulin                     13281.180078\n",
            "BMI                            62.159984\n",
            "DiabetesPedigreeFunction        0.109779\n",
            "Age                           138.303046\n",
            "Outcome                         0.227483\n",
            "dtype: float64\n",
            "\n",
            "Standard Deviation:\n",
            "Pregnancies                   3.369578\n",
            "Glucose                      31.972618\n",
            "BloodPressure                19.355807\n",
            "SkinThickness                15.952218\n",
            "Insulin                     115.244002\n",
            "BMI                           7.884160\n",
            "DiabetesPedigreeFunction      0.331329\n",
            "Age                          11.760232\n",
            "Outcome                       0.476951\n",
            "dtype: float64\n",
            "\n",
            "Maximum:\n",
            "Pregnancies                  17.00\n",
            "Glucose                     199.00\n",
            "BloodPressure               122.00\n",
            "SkinThickness                99.00\n",
            "Insulin                     846.00\n",
            "BMI                          67.10\n",
            "DiabetesPedigreeFunction      2.42\n",
            "Age                          81.00\n",
            "Outcome                       1.00\n",
            "dtype: float64\n"
          ]
        }
      ]
    },
    {
      "cell_type": "markdown",
      "source": [
        "##1.2. XỬ LÝ VÀ TRỰC QUAN HÓA DỮ LIỆU"
      ],
      "metadata": {
        "id": "OPdirurM_SmK"
      }
    }
  ]
}