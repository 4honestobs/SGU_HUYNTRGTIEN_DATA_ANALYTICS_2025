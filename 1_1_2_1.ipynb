{
  "nbformat": 4,
  "nbformat_minor": 0,
  "metadata": {
    "colab": {
      "provenance": [],
      "authorship_tag": "ABX9TyMYaFho52aW8iM3IBtH4zKi",
      "include_colab_link": true
    },
    "kernelspec": {
      "name": "python3",
      "display_name": "Python 3"
    },
    "language_info": {
      "name": "python"
    }
  },
  "cells": [
    {
      "cell_type": "markdown",
      "metadata": {
        "id": "view-in-github",
        "colab_type": "text"
      },
      "source": [
        "<a href=\"https://colab.research.google.com/github/4honestobs/SGU_HUYNTRGTIEN_DATA_ANALYTICS_2025/blob/main/1_1_2_1.ipynb\" target=\"_parent\"><img src=\"https://colab.research.google.com/assets/colab-badge.svg\" alt=\"Open In Colab\"/></a>"
      ]
    },
    {
      "cell_type": "markdown",
      "source": [
        "1. Clone repo vào dự án nhằm truy vấn dữ liệu"
      ],
      "metadata": {
        "id": "9ZcHRxvKEL9e"
      }
    },
    {
      "cell_type": "code",
      "execution_count": 3,
      "metadata": {
        "colab": {
          "base_uri": "https://localhost:8080/"
        },
        "id": "21YuIZaxEHv4",
        "outputId": "fe537c79-443d-4a82-b171-68089180829e"
      },
      "outputs": [
        {
          "output_type": "stream",
          "name": "stdout",
          "text": [
            "Cloning into 'SGU_HUYNTRGTIEN_DATA_ANALYTICS_2025'...\n",
            "remote: Enumerating objects: 13, done.\u001b[K\n",
            "remote: Counting objects:   7% (1/13)\u001b[K\rremote: Counting objects:  15% (2/13)\u001b[K\rremote: Counting objects:  23% (3/13)\u001b[K\rremote: Counting objects:  30% (4/13)\u001b[K\rremote: Counting objects:  38% (5/13)\u001b[K\rremote: Counting objects:  46% (6/13)\u001b[K\rremote: Counting objects:  53% (7/13)\u001b[K\rremote: Counting objects:  61% (8/13)\u001b[K\rremote: Counting objects:  69% (9/13)\u001b[K\rremote: Counting objects:  76% (10/13)\u001b[K\rremote: Counting objects:  84% (11/13)\u001b[K\rremote: Counting objects:  92% (12/13)\u001b[K\rremote: Counting objects: 100% (13/13)\u001b[K\rremote: Counting objects: 100% (13/13), done.\u001b[K\n",
            "remote: Compressing objects: 100% (12/12), done.\u001b[K\n",
            "remote: Total 13 (delta 0), reused 10 (delta 0), pack-reused 0 (from 0)\u001b[K\n",
            "Receiving objects: 100% (13/13), 9.53 MiB | 10.34 MiB/s, done.\n"
          ]
        }
      ],
      "source": [
        "!git clone https://github.com/4honestobs/SGU_HUYNTRGTIEN_DATA_ANALYTICS_2025.git"
      ]
    },
    {
      "cell_type": "markdown",
      "source": [
        "2. Truy vấn dữ liệu Covid"
      ],
      "metadata": {
        "id": "h8i2g3y7EgKJ"
      }
    },
    {
      "cell_type": "code",
      "source": [
        "import numpy as np\n",
        "import pandas as pd\n",
        "from scipy import stats\n",
        "# Load the .csv into a dataframe using read_csv\n",
        "covid_data = pd.read_csv(\"/content/SGU_HUYNTRGTIEN_DATA_ANALYTICS_2025/Data_Sets/owid-covid-data.csv\")\n",
        "covid_data = covid_data[['iso_code','continent',\n",
        "'location','date','total_cases','new_cases']]"
      ],
      "metadata": {
        "id": "Exgj5EgtEnM8"
      },
      "execution_count": 4,
      "outputs": []
    },
    {
      "cell_type": "markdown",
      "source": [
        "3. Tính mean, median, mode, variance, standard deviation, range, percentile, quartile, interquartile range\n",
        "(IQR) sử dụng thư viện numpy và stats"
      ],
      "metadata": {
        "id": "xYj_OpgKFkSh"
      }
    },
    {
      "cell_type": "code",
      "source": [
        "# Take a quick look at the data\n",
        "covid_data.head(5)\n",
        "covid_data.dtypes\n",
        "covid_data.shape\n",
        "\n",
        "# Fill missing values with 0 for accurate calculations\n",
        "covid_data['new_cases'] = covid_data['new_cases'].fillna(0)\n",
        "\n",
        "# Get the mean of the data\n",
        "data_mean = np.mean(covid_data[\"new_cases\"])\n",
        "# Get the median of the data\n",
        "data_median = np.median(covid_data[\"new_cases\"])\n",
        "# Get the mode of the data\n",
        "data_mode = stats.mode(covid_data[\"new_cases\"])\n",
        "# Obtain the variance of the data\n",
        "data_variance = np.var(covid_data[\"new_cases\"])\n",
        "# Obtain the standard deviation of the data\n",
        "data_sd = np.std(covid_data[\"new_cases\"])\n",
        "# Compute the maximum and minimum values of the data\n",
        "data_max = np.max(covid_data[\"new_cases\"])\n",
        "data_min = np.min(covid_data[\"new_cases\"])\n",
        "# Obtain the 60th percentile of the data\n",
        "data_percentile = np.percentile(covid_data[\"new_cases\"],60)\n",
        "# Obtain the quartiles of the data\n",
        "data_quartile = np.quantile(covid_data[\"new_cases\"],0.75)\n",
        "# Get the IQR of the data\n",
        "data_IQR = stats.iqr(covid_data[\"new_cases\"])"
      ],
      "metadata": {
        "id": "_kOxhAvOFshZ"
      },
      "execution_count": 9,
      "outputs": []
    },
    {
      "cell_type": "code",
      "source": [
        "# Output the results using print\n",
        "print(\"Mean:\", data_mean)\n",
        "print(\"Median:\", data_median)\n",
        "print(\"Mode:\", data_mode)\n",
        "print(\"Variance:\", data_variance)\n",
        "print(\"Standard Deviation:\", data_sd)\n",
        "print(\"Maximum:\", data_max)\n",
        "print(\"Minimum:\", data_min)\n",
        "print(\"60th Percentile:\", data_percentile)\n",
        "print(\"75th Quartile:\", data_quartile)\n",
        "print(\"IQR:\", data_IQR)"
      ],
      "metadata": {
        "colab": {
          "base_uri": "https://localhost:8080/"
        },
        "id": "C7LOhGfDF3lZ",
        "outputId": "c4393658-43e3-4a6d-9775-4a748c4803c3"
      },
      "execution_count": 10,
      "outputs": [
        {
          "output_type": "stream",
          "name": "stdout",
          "text": [
            "Mean: 7657.48561016219\n",
            "Median: 0.0\n",
            "Mode: ModeResult(mode=np.float64(0.0), count=np.int64(387661))\n",
            "Variance: 50380982412.98099\n",
            "Standard Deviation: 224457.0836774393\n",
            "Maximum: 44236227.0\n",
            "Minimum: 0.0\n",
            "60th Percentile: 0.0\n",
            "75th Quartile: 0.0\n",
            "IQR: 0.0\n"
          ]
        }
      ]
    }
  ]
}